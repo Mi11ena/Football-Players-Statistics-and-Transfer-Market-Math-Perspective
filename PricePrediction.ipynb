{
 "cells": [
  {
   "cell_type": "code",
   "execution_count": 14,
   "id": "e4a5f1d5-d562-4233-a558-cce80759ca01",
   "metadata": {},
   "outputs": [],
   "source": [
    "# !pip install optuna"
   ]
  },
  {
   "cell_type": "code",
   "execution_count": 79,
   "id": "5a6a182a",
   "metadata": {},
   "outputs": [],
   "source": [
    "%matplotlib inline\n",
    "import pandas as pd\n",
    "import matplotlib.pyplot as plt\n",
    "import numpy as np\n",
    "\n",
    "from sklearn.model_selection import train_test_split, GridSearchCV\n",
    "from sklearn.ensemble import RandomForestRegressor\n",
    "from sklearn.metrics import mean_absolute_error\n",
    "from sklearn.metrics import r2_score\n",
    "import optuna"
   ]
  },
  {
   "cell_type": "markdown",
   "id": "b7651e24-4d1b-4d33-881e-5c9852c629a0",
   "metadata": {},
   "source": [
    "-----------"
   ]
  },
  {
   "cell_type": "markdown",
   "id": "14b240e4-8b74-4361-8cbe-a44c89b739f7",
   "metadata": {},
   "source": [
    "# Reading a Dataset to Train a Model¶"
   ]
  },
  {
   "cell_type": "code",
   "execution_count": 81,
   "id": "3b33c1ba",
   "metadata": {
    "scrolled": true
   },
   "outputs": [
    {
     "data": {
      "text/html": [
       "<div>\n",
       "<style scoped>\n",
       "    .dataframe tbody tr th:only-of-type {\n",
       "        vertical-align: middle;\n",
       "    }\n",
       "\n",
       "    .dataframe tbody tr th {\n",
       "        vertical-align: top;\n",
       "    }\n",
       "\n",
       "    .dataframe thead th {\n",
       "        text-align: right;\n",
       "    }\n",
       "</style>\n",
       "<table border=\"1\" class=\"dataframe\">\n",
       "  <thead>\n",
       "    <tr style=\"text-align: right;\">\n",
       "      <th></th>\n",
       "      <th>full_name</th>\n",
       "      <th>age</th>\n",
       "      <th>height</th>\n",
       "      <th>citizenship</th>\n",
       "      <th>player_agent</th>\n",
       "      <th>current_club</th>\n",
       "      <th>joined</th>\n",
       "      <th>outfitter</th>\n",
       "      <th>social_media</th>\n",
       "      <th>link</th>\n",
       "      <th>...</th>\n",
       "      <th>club_trophies_total_score</th>\n",
       "      <th>club_trophies_average_score</th>\n",
       "      <th>club_trophies_max_score</th>\n",
       "      <th>club_trophies_min_score</th>\n",
       "      <th>club_trophies_amount</th>\n",
       "      <th>Defender_Group</th>\n",
       "      <th>Midfielder_Group</th>\n",
       "      <th>Striker_Group</th>\n",
       "      <th>Winger_Group</th>\n",
       "      <th>followers</th>\n",
       "    </tr>\n",
       "  </thead>\n",
       "  <tbody>\n",
       "    <tr>\n",
       "      <th>0</th>\n",
       "      <td>Joško Gvardiol</td>\n",
       "      <td>22.0</td>\n",
       "      <td>1.85</td>\n",
       "      <td>Croatia</td>\n",
       "      <td>1</td>\n",
       "      <td>Manchester City</td>\n",
       "      <td>7</td>\n",
       "      <td>0</td>\n",
       "      <td>('Instagram', 'http://www.instagram.com/josko_...</td>\n",
       "      <td>https://www.transfermarkt.com/josko-gvardiol/p...</td>\n",
       "      <td>...</td>\n",
       "      <td>303</td>\n",
       "      <td>37.875</td>\n",
       "      <td>81</td>\n",
       "      <td>8</td>\n",
       "      <td>9</td>\n",
       "      <td>2</td>\n",
       "      <td>0</td>\n",
       "      <td>0</td>\n",
       "      <td>0</td>\n",
       "      <td>1199636</td>\n",
       "    </tr>\n",
       "    <tr>\n",
       "      <th>1</th>\n",
       "      <td>Nathan Benjamin Aké</td>\n",
       "      <td>29.0</td>\n",
       "      <td>1.80</td>\n",
       "      <td>Netherlands Cote d'Ivoire</td>\n",
       "      <td>1</td>\n",
       "      <td>Manchester City</td>\n",
       "      <td>43</td>\n",
       "      <td>1</td>\n",
       "      <td>http://www.instagram.com/nathanake/</td>\n",
       "      <td>https://www.transfermarkt.com/nathan-ake/profi...</td>\n",
       "      <td>...</td>\n",
       "      <td>303</td>\n",
       "      <td>37.875</td>\n",
       "      <td>81</td>\n",
       "      <td>8</td>\n",
       "      <td>9</td>\n",
       "      <td>2</td>\n",
       "      <td>0</td>\n",
       "      <td>0</td>\n",
       "      <td>0</td>\n",
       "      <td>2227475</td>\n",
       "    </tr>\n",
       "    <tr>\n",
       "      <th>2</th>\n",
       "      <td>Sergio Gómez Martín</td>\n",
       "      <td>23.0</td>\n",
       "      <td>1.71</td>\n",
       "      <td>Spain</td>\n",
       "      <td>1</td>\n",
       "      <td>Manchester City</td>\n",
       "      <td>18</td>\n",
       "      <td>0</td>\n",
       "      <td>http://www.instagram.com/sergiogm_10/</td>\n",
       "      <td>https://www.transfermarkt.com/sergio-gomez/pro...</td>\n",
       "      <td>...</td>\n",
       "      <td>303</td>\n",
       "      <td>37.875</td>\n",
       "      <td>81</td>\n",
       "      <td>8</td>\n",
       "      <td>9</td>\n",
       "      <td>1</td>\n",
       "      <td>0</td>\n",
       "      <td>0</td>\n",
       "      <td>1</td>\n",
       "      <td>475430</td>\n",
       "    </tr>\n",
       "    <tr>\n",
       "      <th>3</th>\n",
       "      <td>Kyle Andrew Walker</td>\n",
       "      <td>33.0</td>\n",
       "      <td>1.78</td>\n",
       "      <td>England</td>\n",
       "      <td>1</td>\n",
       "      <td>Manchester City</td>\n",
       "      <td>79</td>\n",
       "      <td>1</td>\n",
       "      <td>http://www.instagram.com/kylewalker2/</td>\n",
       "      <td>https://www.transfermarkt.com/kyle-walker/prof...</td>\n",
       "      <td>...</td>\n",
       "      <td>303</td>\n",
       "      <td>37.875</td>\n",
       "      <td>81</td>\n",
       "      <td>8</td>\n",
       "      <td>9</td>\n",
       "      <td>1</td>\n",
       "      <td>0</td>\n",
       "      <td>0</td>\n",
       "      <td>1</td>\n",
       "      <td>4911531</td>\n",
       "    </tr>\n",
       "    <tr>\n",
       "      <th>4</th>\n",
       "      <td>Matheus Luiz Nunes</td>\n",
       "      <td>25.0</td>\n",
       "      <td>1.83</td>\n",
       "      <td>Portugal Brazil</td>\n",
       "      <td>1</td>\n",
       "      <td>Manchester City</td>\n",
       "      <td>6</td>\n",
       "      <td>0</td>\n",
       "      <td>('Instagram', 'http://www.instagram.com/matheu...</td>\n",
       "      <td>https://www.transfermarkt.com/matheus-nunes/pr...</td>\n",
       "      <td>...</td>\n",
       "      <td>303</td>\n",
       "      <td>37.875</td>\n",
       "      <td>81</td>\n",
       "      <td>8</td>\n",
       "      <td>9</td>\n",
       "      <td>0</td>\n",
       "      <td>2</td>\n",
       "      <td>0</td>\n",
       "      <td>0</td>\n",
       "      <td>447746</td>\n",
       "    </tr>\n",
       "    <tr>\n",
       "      <th>...</th>\n",
       "      <td>...</td>\n",
       "      <td>...</td>\n",
       "      <td>...</td>\n",
       "      <td>...</td>\n",
       "      <td>...</td>\n",
       "      <td>...</td>\n",
       "      <td>...</td>\n",
       "      <td>...</td>\n",
       "      <td>...</td>\n",
       "      <td>...</td>\n",
       "      <td>...</td>\n",
       "      <td>...</td>\n",
       "      <td>...</td>\n",
       "      <td>...</td>\n",
       "      <td>...</td>\n",
       "      <td>...</td>\n",
       "      <td>...</td>\n",
       "      <td>...</td>\n",
       "      <td>...</td>\n",
       "      <td>...</td>\n",
       "      <td>...</td>\n",
       "    </tr>\n",
       "    <tr>\n",
       "      <th>16135</th>\n",
       "      <td>João Vítor de Oliveira Florêncio</td>\n",
       "      <td>26.0</td>\n",
       "      <td>1.82</td>\n",
       "      <td>Brazil</td>\n",
       "      <td>0</td>\n",
       "      <td>Nadur Youngsters FC</td>\n",
       "      <td>8</td>\n",
       "      <td>0</td>\n",
       "      <td>NaN</td>\n",
       "      <td>https://www.transfermarkt.com/robinho/profil/s...</td>\n",
       "      <td>...</td>\n",
       "      <td>0</td>\n",
       "      <td>0.000</td>\n",
       "      <td>0</td>\n",
       "      <td>2</td>\n",
       "      <td>0</td>\n",
       "      <td>0</td>\n",
       "      <td>0</td>\n",
       "      <td>1</td>\n",
       "      <td>1</td>\n",
       "      <td>0</td>\n",
       "    </tr>\n",
       "    <tr>\n",
       "      <th>16136</th>\n",
       "      <td>Rafael Conrado Prudente</td>\n",
       "      <td>29.0</td>\n",
       "      <td>1.89</td>\n",
       "      <td>Brazil</td>\n",
       "      <td>0</td>\n",
       "      <td>Oratory Youths FC</td>\n",
       "      <td>1</td>\n",
       "      <td>0</td>\n",
       "      <td>NaN</td>\n",
       "      <td>https://www.transfermarkt.com/rafael-conrado/p...</td>\n",
       "      <td>...</td>\n",
       "      <td>0</td>\n",
       "      <td>0.000</td>\n",
       "      <td>0</td>\n",
       "      <td>2</td>\n",
       "      <td>0</td>\n",
       "      <td>0</td>\n",
       "      <td>0</td>\n",
       "      <td>2</td>\n",
       "      <td>0</td>\n",
       "      <td>0</td>\n",
       "    </tr>\n",
       "    <tr>\n",
       "      <th>16137</th>\n",
       "      <td>Johandre Jose Padilla Vasquez</td>\n",
       "      <td>26.0</td>\n",
       "      <td>1.82</td>\n",
       "      <td>Colombia</td>\n",
       "      <td>0</td>\n",
       "      <td>Ghajnsielem FC</td>\n",
       "      <td>2</td>\n",
       "      <td>0</td>\n",
       "      <td>NaN</td>\n",
       "      <td>https://www.transfermarkt.com/johandre-padilla...</td>\n",
       "      <td>...</td>\n",
       "      <td>0</td>\n",
       "      <td>0.000</td>\n",
       "      <td>0</td>\n",
       "      <td>2</td>\n",
       "      <td>0</td>\n",
       "      <td>2</td>\n",
       "      <td>0</td>\n",
       "      <td>0</td>\n",
       "      <td>0</td>\n",
       "      <td>0</td>\n",
       "    </tr>\n",
       "    <tr>\n",
       "      <th>16138</th>\n",
       "      <td>Cláudio Henrique da Silva Barboza</td>\n",
       "      <td>25.0</td>\n",
       "      <td>1.64</td>\n",
       "      <td>Brazil</td>\n",
       "      <td>0</td>\n",
       "      <td>Ghajnsielem FC</td>\n",
       "      <td>7</td>\n",
       "      <td>0</td>\n",
       "      <td>NaN</td>\n",
       "      <td>https://www.transfermarkt.com/claudio-murici/p...</td>\n",
       "      <td>...</td>\n",
       "      <td>0</td>\n",
       "      <td>0.000</td>\n",
       "      <td>0</td>\n",
       "      <td>2</td>\n",
       "      <td>0</td>\n",
       "      <td>0</td>\n",
       "      <td>0</td>\n",
       "      <td>1</td>\n",
       "      <td>1</td>\n",
       "      <td>0</td>\n",
       "    </tr>\n",
       "    <tr>\n",
       "      <th>16139</th>\n",
       "      <td>Leandro Almeida da Silva</td>\n",
       "      <td>36.0</td>\n",
       "      <td>1.88</td>\n",
       "      <td>Brazil</td>\n",
       "      <td>1</td>\n",
       "      <td>Xaghra United FC</td>\n",
       "      <td>6</td>\n",
       "      <td>0</td>\n",
       "      <td>http://www.leandroalmeida4.com/</td>\n",
       "      <td>https://www.transfermarkt.com/leandro-almeida/...</td>\n",
       "      <td>...</td>\n",
       "      <td>0</td>\n",
       "      <td>0.000</td>\n",
       "      <td>0</td>\n",
       "      <td>2</td>\n",
       "      <td>0</td>\n",
       "      <td>2</td>\n",
       "      <td>0</td>\n",
       "      <td>0</td>\n",
       "      <td>0</td>\n",
       "      <td>0</td>\n",
       "    </tr>\n",
       "  </tbody>\n",
       "</table>\n",
       "<p>16140 rows × 61 columns</p>\n",
       "</div>"
      ],
      "text/plain": [
       "                               full_name   age  height  \\\n",
       "0                         Joško Gvardiol  22.0    1.85   \n",
       "1                    Nathan Benjamin Aké  29.0    1.80   \n",
       "2                    Sergio Gómez Martín  23.0    1.71   \n",
       "3                     Kyle Andrew Walker  33.0    1.78   \n",
       "4                     Matheus Luiz Nunes  25.0    1.83   \n",
       "...                                  ...   ...     ...   \n",
       "16135   João Vítor de Oliveira Florêncio  26.0    1.82   \n",
       "16136            Rafael Conrado Prudente  29.0    1.89   \n",
       "16137      Johandre Jose Padilla Vasquez  26.0    1.82   \n",
       "16138  Cláudio Henrique da Silva Barboza  25.0    1.64   \n",
       "16139           Leandro Almeida da Silva  36.0    1.88   \n",
       "\n",
       "                     citizenship  player_agent         current_club  joined  \\\n",
       "0                        Croatia             1      Manchester City       7   \n",
       "1      Netherlands Cote d'Ivoire             1      Manchester City      43   \n",
       "2                          Spain             1      Manchester City      18   \n",
       "3                        England             1      Manchester City      79   \n",
       "4                Portugal Brazil             1      Manchester City       6   \n",
       "...                          ...           ...                  ...     ...   \n",
       "16135                     Brazil             0  Nadur Youngsters FC       8   \n",
       "16136                     Brazil             0    Oratory Youths FC       1   \n",
       "16137                   Colombia             0       Ghajnsielem FC       2   \n",
       "16138                     Brazil             0       Ghajnsielem FC       7   \n",
       "16139                     Brazil             1     Xaghra United FC       6   \n",
       "\n",
       "       outfitter                                       social_media  \\\n",
       "0              0  ('Instagram', 'http://www.instagram.com/josko_...   \n",
       "1              1                http://www.instagram.com/nathanake/   \n",
       "2              0              http://www.instagram.com/sergiogm_10/   \n",
       "3              1              http://www.instagram.com/kylewalker2/   \n",
       "4              0  ('Instagram', 'http://www.instagram.com/matheu...   \n",
       "...          ...                                                ...   \n",
       "16135          0                                                NaN   \n",
       "16136          0                                                NaN   \n",
       "16137          0                                                NaN   \n",
       "16138          0                                                NaN   \n",
       "16139          0                    http://www.leandroalmeida4.com/   \n",
       "\n",
       "                                                    link  ...  \\\n",
       "0      https://www.transfermarkt.com/josko-gvardiol/p...  ...   \n",
       "1      https://www.transfermarkt.com/nathan-ake/profi...  ...   \n",
       "2      https://www.transfermarkt.com/sergio-gomez/pro...  ...   \n",
       "3      https://www.transfermarkt.com/kyle-walker/prof...  ...   \n",
       "4      https://www.transfermarkt.com/matheus-nunes/pr...  ...   \n",
       "...                                                  ...  ...   \n",
       "16135  https://www.transfermarkt.com/robinho/profil/s...  ...   \n",
       "16136  https://www.transfermarkt.com/rafael-conrado/p...  ...   \n",
       "16137  https://www.transfermarkt.com/johandre-padilla...  ...   \n",
       "16138  https://www.transfermarkt.com/claudio-murici/p...  ...   \n",
       "16139  https://www.transfermarkt.com/leandro-almeida/...  ...   \n",
       "\n",
       "       club_trophies_total_score club_trophies_average_score  \\\n",
       "0                            303                      37.875   \n",
       "1                            303                      37.875   \n",
       "2                            303                      37.875   \n",
       "3                            303                      37.875   \n",
       "4                            303                      37.875   \n",
       "...                          ...                         ...   \n",
       "16135                          0                       0.000   \n",
       "16136                          0                       0.000   \n",
       "16137                          0                       0.000   \n",
       "16138                          0                       0.000   \n",
       "16139                          0                       0.000   \n",
       "\n",
       "       club_trophies_max_score  club_trophies_min_score  club_trophies_amount  \\\n",
       "0                           81                        8                     9   \n",
       "1                           81                        8                     9   \n",
       "2                           81                        8                     9   \n",
       "3                           81                        8                     9   \n",
       "4                           81                        8                     9   \n",
       "...                        ...                      ...                   ...   \n",
       "16135                        0                        2                     0   \n",
       "16136                        0                        2                     0   \n",
       "16137                        0                        2                     0   \n",
       "16138                        0                        2                     0   \n",
       "16139                        0                        2                     0   \n",
       "\n",
       "       Defender_Group  Midfielder_Group  Striker_Group  Winger_Group  \\\n",
       "0                   2                 0              0             0   \n",
       "1                   2                 0              0             0   \n",
       "2                   1                 0              0             1   \n",
       "3                   1                 0              0             1   \n",
       "4                   0                 2              0             0   \n",
       "...               ...               ...            ...           ...   \n",
       "16135               0                 0              1             1   \n",
       "16136               0                 0              2             0   \n",
       "16137               2                 0              0             0   \n",
       "16138               0                 0              1             1   \n",
       "16139               2                 0              0             0   \n",
       "\n",
       "       followers  \n",
       "0        1199636  \n",
       "1        2227475  \n",
       "2         475430  \n",
       "3        4911531  \n",
       "4         447746  \n",
       "...          ...  \n",
       "16135          0  \n",
       "16136          0  \n",
       "16137          0  \n",
       "16138          0  \n",
       "16139          0  \n",
       "\n",
       "[16140 rows x 61 columns]"
      ]
     },
     "execution_count": 81,
     "metadata": {},
     "output_type": "execute_result"
    }
   ],
   "source": [
    "data = pd.read_excel('final_dataset.xlsx')\n",
    "data"
   ]
  },
  {
   "cell_type": "code",
   "execution_count": 75,
   "id": "c892bcfc-b8f5-48a6-b952-35833dc52995",
   "metadata": {},
   "outputs": [
    {
     "name": "stdout",
     "output_type": "stream",
     "text": [
      "Number of rows in the dataset: 16140\n",
      "Number of columns in the dataset: 61\n"
     ]
    }
   ],
   "source": [
    "print(f\"Number of rows in the dataset: {data.shape[0]}\")\n",
    "print(f\"Number of columns in the dataset: {data.shape[1]}\")"
   ]
  },
  {
   "cell_type": "code",
   "execution_count": 34,
   "id": "7809eb95-a0da-44ca-b8b1-4a89286be7e2",
   "metadata": {},
   "outputs": [
    {
     "name": "stdout",
     "output_type": "stream",
     "text": [
      "Fill missing values with zero\n",
      "Missing values: 0\n"
     ]
    }
   ],
   "source": [
    "data = data.fillna(0)\n",
    "\n",
    "print(\"Fill missing values with zero\")\n",
    "print(\"Missing values:\", data_filled_zero.isna().sum().sum())"
   ]
  },
  {
   "cell_type": "markdown",
   "id": "d89777c2-331d-4baa-ad80-e9721ef27582",
   "metadata": {},
   "source": [
    "## Highlighting features and target"
   ]
  },
  {
   "cell_type": "code",
   "execution_count": 17,
   "id": "e7c10344",
   "metadata": {},
   "outputs": [],
   "source": [
    "relevant_features = [\n",
    "    'age',\n",
    "     'height',\n",
    "     'player_agent',\n",
    "     'joined',\n",
    "     'outfitter',\n",
    "     'appearances',\n",
    "     'goals',\n",
    "     'assists',\n",
    "     'substitutions_on',\n",
    "     'substitutions_off',\n",
    "     'yellow_cards',\n",
    "     'red_cards',\n",
    "     'penalty_goals',\n",
    "     'minutes_played',\n",
    "     'individual',\n",
    "     'international',\n",
    "     'national',\n",
    "     'other',\n",
    "     'national_status',\n",
    "     'national_matches',\n",
    "     'national_goals',\n",
    "     'national_assists',\n",
    "     'national_yellow_cards',\n",
    "     'national_red_cards',\n",
    "     'avg_injuries_per_season',\n",
    "     'avg_injury_duration',\n",
    "     'is_injured',\n",
    "     'last_injury_date',\n",
    "     'club_price',\n",
    "     'club_statistics_matches',\n",
    "     'club_statistics_goals',\n",
    "     'club_statistics_pts',\n",
    "     'club_league_top_rank',\n",
    "     'club_league_lowest_rank',\n",
    "     'club_league_mean_rank',\n",
    "     'foot_left',\n",
    "     'foot_right',\n",
    "     'trophies_total_score',\n",
    "     'trophies_average_score',\n",
    "     'trophies_max_score',\n",
    "     'trophies_min_score',\n",
    "     'trophies_amount',\n",
    "     'club_trophies_total_score',\n",
    "     'club_trophies_average_score',\n",
    "     'club_trophies_max_score',\n",
    "     'club_trophies_min_score',\n",
    "     'club_trophies_amount',\n",
    "     'Defender_Group',\n",
    "     'Midfielder_Group',\n",
    "     'Striker_Group',\n",
    "     'Winger_Group',\n",
    "     'followers'\n",
    "]"
   ]
  },
  {
   "cell_type": "code",
   "execution_count": 18,
   "id": "df7e3d9a-e68a-4e9b-8df0-95d9629f9e6c",
   "metadata": {},
   "outputs": [],
   "source": [
    "X = data[relevant_features]\n",
    "y = data['current_price']"
   ]
  },
  {
   "cell_type": "code",
   "execution_count": 22,
   "id": "d5f437bf-c220-4369-9d5c-c4a373d72670",
   "metadata": {},
   "outputs": [],
   "source": [
    "log_target = False  # True - apply target logarithm, False - do not apply\n",
    "\n",
    "# Logarithm the target if necessary\n",
    "if log_target:\n",
    "    y = np.log1p(y)"
   ]
  },
  {
   "cell_type": "code",
   "execution_count": 23,
   "id": "f0b85794-2ecf-4710-8fc9-759881d612b6",
   "metadata": {},
   "outputs": [
    {
     "data": {
      "text/plain": [
       "count    1.614000e+04\n",
       "mean     2.307404e+06\n",
       "std      7.959596e+06\n",
       "min      1.000000e+04\n",
       "25%      1.250000e+05\n",
       "50%      3.000000e+05\n",
       "75%      9.500000e+05\n",
       "max      1.800000e+08\n",
       "Name: current_price, dtype: float64"
      ]
     },
     "execution_count": 23,
     "metadata": {},
     "output_type": "execute_result"
    }
   ],
   "source": [
    "# Display statistical summary of column or Series \"y\"\n",
    "y.describe()"
   ]
  },
  {
   "cell_type": "markdown",
   "id": "158e6cef-2ab8-4110-972e-711c654f53dc",
   "metadata": {},
   "source": [
    "## Distribution of the Target Value"
   ]
  },
  {
   "cell_type": "code",
   "execution_count": 25,
   "id": "c95f6afa-b30c-48f9-94f2-77f1d4de464c",
   "metadata": {},
   "outputs": [
    {
     "data": {
      "image/png": "[encoded data removed]",
      "text/plain": [
       "<Figure size 640x480 with 1 Axes>"
      ]
     },
     "metadata": {},
     "output_type": "display_data"
    }
   ],
   "source": [
    "# Calculate the first (Q1) and third (Q3) quartiles of the data\n",
    "Q1 = y.quantile(0.25)\n",
    "Q3 = y.quantile(0.75)\n",
    "\n",
    "# Calculate the interquartile range (IQR)\n",
    "IQR = Q3 - Q1\n",
    "\n",
    "# Filter data, remove anomalies\n",
    "y_plot = y[~((y < (Q1 - 1.5 * IQR)) | (y > (Q3 + 1.5 * IQR)))]\n",
    "\n",
    "# Build a box-plot of filtered data\n",
    "plt.boxplot(y_plot)\n",
    "if log_target:\n",
    "    plt.ylabel(\"Logarithmic player value in €\")\n",
    "else:\n",
    "    plt.ylabel(\"Player value in €\")\n",
    "plt.title(\"Box-plot of Player Value\")\n",
    "plt.grid(True)\n",
    "plt.show()"
   ]
  },
  {
   "cell_type": "code",
   "execution_count": 26,
   "id": "e2bd69c9-791d-43ea-9c1d-a1f77f3497cb",
   "metadata": {},
   "outputs": [
    {
     "data": {
      "image/png": "[encoded data removed]",
      "text/plain": [
       "<Figure size 640x480 with 1 Axes>"
      ]
     },
     "metadata": {},
     "output_type": "display_data"
    }
   ],
   "source": [
    "# Showing a histogram of player value distribution\n",
    "plt.hist(y_plot, bins=30)\n",
    "if log_target:\n",
    "    plt.xlabel(\"Logarithmic player value in €\")\n",
    "else:\n",
    "    plt.xlabel(\"Player value in €\")\n",
    "plt.ylabel(\"Number of players\")\n",
    "plt.title(\"Histogram of player value distribution\")\n",
    "plt.grid(True)\n",
    "plt.show()"
   ]
  },
  {
   "cell_type": "markdown",
   "id": "c5cdecd4-31f0-42a9-9d77-27914d06d462",
   "metadata": {},
   "source": [
    "----"
   ]
  },
  {
   "cell_type": "markdown",
   "id": "7e18a513-f81f-4307-80c4-7f0a658ebce6",
   "metadata": {},
   "source": [
    "# Last Best Result"
   ]
  },
  {
   "cell_type": "code",
   "execution_count": 27,
   "id": "e5d9a28c-e6ca-45af-a95a-9e4d77ae0a49",
   "metadata": {},
   "outputs": [],
   "source": [
    "# Split the data into training and test datasets\n",
    "X_train, X_test, y_train, y_test = train_test_split(\n",
    "    X, y, test_size=0.2, random_state=42)"
   ]
  },
  {
   "cell_type": "markdown",
   "id": "a88fa817-baec-4510-a680-47de6c5c35a4",
   "metadata": {},
   "source": [
    "### optuna part"
   ]
  },
  {
   "cell_type": "code",
   "execution_count": 66,
   "id": "64fda054-06e4-4d9d-a5d5-41108432d972",
   "metadata": {},
   "outputs": [],
   "source": [
    "# Create a function to optimize the model parameters. \n",
    "# This function takes a trial from Optuna as input and returns the metric value (MAE) on the test sample.\n",
    "\n",
    "def objective(trial):\n",
    "    # Set the parameters\n",
    "    n_estimators = trial.suggest_int('n_estimators', 100, 500) # Suggest a value for the number of trees in the forest (between 100 and 500)\n",
    "    max_features_options = trial.suggest_categorical('max_features', ['sqrt', 'log2', None]) # Suggest a value for the maximum number of features to consider for splitting a node\n",
    "    \n",
    "    # If 'None' is chosen for max_features, suggest a float value between 0.1 and 1.0\n",
    "    if max_features_options is None:\n",
    "        max_features = trial.suggest_float('max_features_frac', 0.1, 1.0)\n",
    "    else:\n",
    "        max_features = max_features_options\n",
    "    \n",
    "    max_depth = trial.suggest_int('max_depth', 10, 50, log=True)\n",
    "\n",
    "    # Initialize the RandomForestRegressor with the suggested hyperparameters\n",
    "    model = RandomForestRegressor(\n",
    "        n_estimators=n_estimators,\n",
    "        max_features=max_features,\n",
    "        max_depth=max_depth,\n",
    "        random_state=42\n",
    "    )\n",
    "    \n",
    "    # Fit the model to the training data\n",
    "    model.fit(X_train, y_train)\n",
    "    \n",
    "    # Predict on the test data\n",
    "    predictions = model.predict(X_test)\n",
    "    \n",
    "    # Calculate MAE of the predictions\n",
    "    mae = mean_absolute_error(y_test, predictions)\n",
    "    return mae"
   ]
  },
  {
   "cell_type": "code",
   "execution_count": 43,
   "id": "24ff2243-3d3a-46f4-812c-4a859fc232fd",
   "metadata": {},
   "outputs": [
    {
     "data": {
      "text/html": [
       "<style>#sk-container-id-3 {color: black;background-color: white;}#sk-container-id-3 pre{padding: 0;}#sk-container-id-3 div.sk-toggleable {background-color: white;}#sk-container-id-3 label.sk-toggleable__label {cursor: pointer;display: block;width: 100%;margin-bottom: 0;padding: 0.3em;box-sizing: border-box;text-align: center;}#sk-container-id-3 label.sk-toggleable__label-arrow:before {content: \"▸\";float: left;margin-right: 0.25em;color: #696969;}#sk-container-id-3 label.sk-toggleable__label-arrow:hover:before {color: black;}#sk-container-id-3 div.sk-estimator:hover label.sk-toggleable__label-arrow:before {color: black;}#sk-container-id-3 div.sk-toggleable__content {max-height: 0;max-width: 0;overflow: hidden;text-align: left;background-color: #f0f8ff;}#sk-container-id-3 div.sk-toggleable__content pre {margin: 0.2em;color: black;border-radius: 0.25em;background-color: #f0f8ff;}#sk-container-id-3 input.sk-toggleable__control:checked~div.sk-toggleable__content {max-height: 200px;max-width: 100%;overflow: auto;}#sk-container-id-3 input.sk-toggleable__control:checked~label.sk-toggleable__label-arrow:before {content: \"▾\";}#sk-container-id-3 div.sk-estimator input.sk-toggleable__control:checked~label.sk-toggleable__label {background-color: #d4ebff;}#sk-container-id-3 div.sk-label input.sk-toggleable__control:checked~label.sk-toggleable__label {background-color: #d4ebff;}#sk-container-id-3 input.sk-hidden--visually {border: 0;clip: rect(1px 1px 1px 1px);clip: rect(1px, 1px, 1px, 1px);height: 1px;margin: -1px;overflow: hidden;padding: 0;position: absolute;width: 1px;}#sk-container-id-3 div.sk-estimator {font-family: monospace;background-color: #f0f8ff;border: 1px dotted black;border-radius: 0.25em;box-sizing: border-box;margin-bottom: 0.5em;}#sk-container-id-3 div.sk-estimator:hover {background-color: #d4ebff;}#sk-container-id-3 div.sk-parallel-item::after {content: \"\";width: 100%;border-bottom: 1px solid gray;flex-grow: 1;}#sk-container-id-3 div.sk-label:hover label.sk-toggleable__label {background-color: #d4ebff;}#sk-container-id-3 div.sk-serial::before {content: \"\";position: absolute;border-left: 1px solid gray;box-sizing: border-box;top: 0;bottom: 0;left: 50%;z-index: 0;}#sk-container-id-3 div.sk-serial {display: flex;flex-direction: column;align-items: center;background-color: white;padding-right: 0.2em;padding-left: 0.2em;position: relative;}#sk-container-id-3 div.sk-item {position: relative;z-index: 1;}#sk-container-id-3 div.sk-parallel {display: flex;align-items: stretch;justify-content: center;background-color: white;position: relative;}#sk-container-id-3 div.sk-item::before, #sk-container-id-3 div.sk-parallel-item::before {content: \"\";position: absolute;border-left: 1px solid gray;box-sizing: border-box;top: 0;bottom: 0;left: 50%;z-index: -1;}#sk-container-id-3 div.sk-parallel-item {display: flex;flex-direction: column;z-index: 1;position: relative;background-color: white;}#sk-container-id-3 div.sk-parallel-item:first-child::after {align-self: flex-end;width: 50%;}#sk-container-id-3 div.sk-parallel-item:last-child::after {align-self: flex-start;width: 50%;}#sk-container-id-3 div.sk-parallel-item:only-child::after {width: 0;}#sk-container-id-3 div.sk-dashed-wrapped {border: 1px dashed gray;margin: 0 0.4em 0.5em 0.4em;box-sizing: border-box;padding-bottom: 0.4em;background-color: white;}#sk-container-id-3 div.sk-label label {font-family: monospace;font-weight: bold;display: inline-block;line-height: 1.2em;}#sk-container-id-3 div.sk-label-container {text-align: center;}#sk-container-id-3 div.sk-container {/* jupyter's `normalize.less` sets `[hidden] { display: none; }` but bootstrap.min.css set `[hidden] { display: none !important; }` so we also need the `!important` here to be able to override the default hidden behavior on the sphinx rendered scikit-learn.org. See: https://github.com/scikit-learn/scikit-learn/issues/21755 */display: inline-block !important;position: relative;}#sk-container-id-3 div.sk-text-repr-fallback {display: none;}</style><div id=\"sk-container-id-3\" class=\"sk-top-container\"><div class=\"sk-text-repr-fallback\"><pre>RandomForestRegressor(random_state=42)</pre><b>In a Jupyter environment, please rerun this cell to show the HTML representation or trust the notebook. <br />On GitHub, the HTML representation is unable to render, please try loading this page with nbviewer.org.</b></div><div class=\"sk-container\" hidden><div class=\"sk-item\"><div class=\"sk-estimator sk-toggleable\"><input class=\"sk-toggleable__control sk-hidden--visually\" id=\"sk-estimator-id-3\" type=\"checkbox\" checked><label for=\"sk-estimator-id-3\" class=\"sk-toggleable__label sk-toggleable__label-arrow\">RandomForestRegressor</label><div class=\"sk-toggleable__content\"><pre>RandomForestRegressor(random_state=42)</pre></div></div></div></div></div>"
      ],
      "text/plain": [
       "RandomForestRegressor(random_state=42)"
      ]
     },
     "execution_count": 43,
     "metadata": {},
     "output_type": "execute_result"
    }
   ],
   "source": [
    "rf2 = RandomForestRegressor(random_state=42)\n",
    "rf2.fit(X_train, y_train)"
   ]
  },
  {
   "cell_type": "code",
   "execution_count": 44,
   "id": "1d62e524-161e-4d8c-a96c-56f1e29ffacc",
   "metadata": {},
   "outputs": [
    {
     "name": "stdout",
     "output_type": "stream",
     "text": [
      "MAE: 1115981.6294919455\n"
     ]
    }
   ],
   "source": [
    "# Initial MAE Estimation\n",
    "predictions = rf2.predict(X_test)\n",
    "mae = mean_absolute_error(y_test, predictions)\n",
    "print(f'MAE: {mae}')"
   ]
  },
  {
   "cell_type": "code",
   "execution_count": 45,
   "id": "84d53c54-4f44-4de5-b1da-dd7118b1b0bd",
   "metadata": {
    "scrolled": true
   },
   "outputs": [
    {
     "name": "stderr",
     "output_type": "stream",
     "text": [
      "[I 2024-05-23 14:15:45,489] A new study created in memory with name: no-name-46f5677a-11a9-4f57-a1f5-8447add176e1\n",
      "[I 2024-05-23 14:16:53,766] Trial 0 finished with value: 1112703.4776706784 and parameters: {'n_estimators': 482, 'max_features': None, 'max_features_frac': 0.9379298128502765, 'max_depth': 14}. Best is trial 0 with value: 1112703.4776706784.\n",
      "[I 2024-05-23 14:17:05,042] Trial 1 finished with value: 1254903.0167584263 and parameters: {'n_estimators': 329, 'max_features': 'sqrt', 'max_depth': 20}. Best is trial 0 with value: 1112703.4776706784.\n",
      "[I 2024-05-23 14:17:08,494] Trial 2 finished with value: 1265278.2214667602 and parameters: {'n_estimators': 128, 'max_features': 'sqrt', 'max_depth': 15}. Best is trial 0 with value: 1112703.4776706784.\n",
      "[I 2024-05-23 14:17:34,914] Trial 3 finished with value: 1162238.4362769008 and parameters: {'n_estimators': 203, 'max_features': None, 'max_features_frac': 0.5617819604788529, 'max_depth': 42}. Best is trial 0 with value: 1112703.4776706784.\n",
      "[I 2024-05-23 14:18:02,023] Trial 4 finished with value: 1137362.7916690349 and parameters: {'n_estimators': 244, 'max_features': None, 'max_features_frac': 0.642118878502437, 'max_depth': 16}. Best is trial 0 with value: 1112703.4776706784.\n",
      "[I 2024-05-23 14:18:32,904] Trial 5 finished with value: 1133317.5854807503 and parameters: {'n_estimators': 341, 'max_features': None, 'max_features_frac': 0.7334905033429846, 'max_depth': 11}. Best is trial 0 with value: 1112703.4776706784.\n",
      "[I 2024-05-23 14:18:43,897] Trial 6 finished with value: 1244233.4762046132 and parameters: {'n_estimators': 363, 'max_features': None, 'max_features_frac': 0.26709742523526137, 'max_depth': 10}. Best is trial 0 with value: 1112703.4776706784.\n",
      "[I 2024-05-23 14:19:47,403] Trial 7 finished with value: 1108927.4723264514 and parameters: {'n_estimators': 347, 'max_features': None, 'max_features_frac': 0.9764980962183835, 'max_depth': 18}. Best is trial 7 with value: 1108927.4723264514.\n",
      "[I 2024-05-23 14:19:57,456] Trial 8 finished with value: 1289627.8516307583 and parameters: {'n_estimators': 346, 'max_features': 'log2', 'max_depth': 31}. Best is trial 7 with value: 1108927.4723264514.\n",
      "[I 2024-05-23 14:20:02,364] Trial 9 finished with value: 1301639.0665210302 and parameters: {'n_estimators': 174, 'max_features': 'log2', 'max_depth': 25}. Best is trial 7 with value: 1108927.4723264514.\n",
      "[I 2024-05-23 14:20:19,189] Trial 10 finished with value: 1259136.7749286545 and parameters: {'n_estimators': 440, 'max_features': 'sqrt', 'max_depth': 49}. Best is trial 7 with value: 1108927.4723264514.\n",
      "[I 2024-05-23 14:21:34,248] Trial 11 finished with value: 1116539.674548096 and parameters: {'n_estimators': 498, 'max_features': None, 'max_features_frac': 0.9784041014888525, 'max_depth': 14}. Best is trial 7 with value: 1108927.4723264514.\n",
      "[I 2024-05-23 14:23:02,552] Trial 12 finished with value: 1104183.7807345195 and parameters: {'n_estimators': 418, 'max_features': None, 'max_features_frac': 0.9406014627190983, 'max_depth': 20}. Best is trial 12 with value: 1104183.7807345195.\n",
      "[I 2024-05-23 14:24:19,044] Trial 13 finished with value: 1118293.005603755 and parameters: {'n_estimators': 412, 'max_features': None, 'max_features_frac': 0.8033972013135886, 'max_depth': 22}. Best is trial 12 with value: 1104183.7807345195.\n",
      "[I 2024-05-23 14:24:44,039] Trial 14 finished with value: 1180084.6903073257 and parameters: {'n_estimators': 270, 'max_features': None, 'max_features_frac': 0.36572213004093523, 'max_depth': 30}. Best is trial 12 with value: 1104183.7807345195.\n",
      "[I 2024-05-23 14:24:53,864] Trial 15 finished with value: 1283547.2657672847 and parameters: {'n_estimators': 405, 'max_features': 'log2', 'max_depth': 19}. Best is trial 12 with value: 1104183.7807345195.\n",
      "[I 2024-05-23 14:26:09,604] Trial 16 finished with value: 1111100.323951816 and parameters: {'n_estimators': 394, 'max_features': None, 'max_features_frac': 0.8645325661977648, 'max_depth': 27}. Best is trial 12 with value: 1104183.7807345195.\n",
      "[I 2024-05-23 14:27:05,691] Trial 17 finished with value: 1112208.1540811544 and parameters: {'n_estimators': 292, 'max_features': None, 'max_features_frac': 0.9930104774911883, 'max_depth': 18}. Best is trial 12 with value: 1104183.7807345195.\n",
      "[I 2024-05-23 14:27:15,284] Trial 18 finished with value: 1282769.472568232 and parameters: {'n_estimators': 445, 'max_features': 'sqrt', 'max_depth': 12}. Best is trial 12 with value: 1104183.7807345195.\n",
      "[I 2024-05-23 14:27:24,343] Trial 19 finished with value: 1293297.906620719 and parameters: {'n_estimators': 302, 'max_features': 'log2', 'max_depth': 36}. Best is trial 12 with value: 1104183.7807345195.\n",
      "[I 2024-05-23 14:27:59,176] Trial 20 finished with value: 1174440.8100001023 and parameters: {'n_estimators': 383, 'max_features': None, 'max_features_frac': 0.39638050053044116, 'max_depth': 23}. Best is trial 12 with value: 1104183.7807345195.\n",
      "[I 2024-05-23 14:29:22,733] Trial 21 finished with value: 1113636.7386032424 and parameters: {'n_estimators': 436, 'max_features': None, 'max_features_frac': 0.8250785509666378, 'max_depth': 27}. Best is trial 12 with value: 1104183.7807345195.\n",
      "[I 2024-05-23 14:30:40,603] Trial 22 finished with value: 1112768.1647220484 and parameters: {'n_estimators': 388, 'max_features': None, 'max_features_frac': 0.8699257813864129, 'max_depth': 27}. Best is trial 12 with value: 1104183.7807345195.\n",
      "[I 2024-05-23 14:31:44,005] Trial 23 finished with value: 1130674.0209666935 and parameters: {'n_estimators': 454, 'max_features': None, 'max_features_frac': 0.7068996035887087, 'max_depth': 18}. Best is trial 12 with value: 1104183.7807345195.\n",
      "[I 2024-05-23 14:47:57,428] Trial 24 finished with value: 1121343.1651148512 and parameters: {'n_estimators': 315, 'max_features': None, 'max_features_frac': 0.8645285208014064, 'max_depth': 35}. Best is trial 12 with value: 1104183.7807345195.\n",
      "[I 2024-05-23 14:48:56,613] Trial 25 finished with value: 1111912.9914225363 and parameters: {'n_estimators': 367, 'max_features': None, 'max_features_frac': 0.9977252327213849, 'max_depth': 22}. Best is trial 12 with value: 1104183.7807345195.\n",
      "[I 2024-05-23 14:49:06,775] Trial 26 finished with value: 1281469.653143934 and parameters: {'n_estimators': 417, 'max_features': None, 'max_features_frac': 0.13352183911257803, 'max_depth': 25}. Best is trial 12 with value: 1104183.7807345195.\n",
      "[I 2024-05-23 14:50:10,723] Trial 27 finished with value: 1114334.4110097894 and parameters: {'n_estimators': 468, 'max_features': None, 'max_features_frac': 0.8851726258111678, 'max_depth': 20}. Best is trial 12 with value: 1104183.7807345195.\n",
      "[I 2024-05-23 14:50:14,954] Trial 28 finished with value: 1305567.1640584613 and parameters: {'n_estimators': 268, 'max_features': 'log2', 'max_depth': 16}. Best is trial 12 with value: 1104183.7807345195.\n",
      "[I 2024-05-23 14:50:23,385] Trial 29 finished with value: 1268976.0394954188 and parameters: {'n_estimators': 487, 'max_features': 'sqrt', 'max_depth': 13}. Best is trial 12 with value: 1104183.7807345195.\n",
      "[I 2024-05-23 14:51:13,223] Trial 30 finished with value: 1123782.093740749 and parameters: {'n_estimators': 386, 'max_features': None, 'max_features_frac': 0.7416206690597599, 'max_depth': 32}. Best is trial 12 with value: 1104183.7807345195.\n",
      "[I 2024-05-23 14:52:17,168] Trial 31 finished with value: 1112118.0279991038 and parameters: {'n_estimators': 357, 'max_features': None, 'max_features_frac': 0.9962647964624765, 'max_depth': 22}. Best is trial 12 with value: 1104183.7807345195.\n",
      "[I 2024-05-23 14:53:17,880] Trial 32 finished with value: 1113246.0024690707 and parameters: {'n_estimators': 370, 'max_features': None, 'max_features_frac': 0.9102681621718571, 'max_depth': 17}. Best is trial 12 with value: 1104183.7807345195.\n",
      "[I 2024-05-23 14:54:17,367] Trial 33 finished with value: 1106275.7124053263 and parameters: {'n_estimators': 319, 'max_features': None, 'max_features_frac': 0.9258535406472602, 'max_depth': 20}. Best is trial 12 with value: 1104183.7807345195.\n",
      "[I 2024-05-23 14:55:11,701] Trial 34 finished with value: 1117522.1750637332 and parameters: {'n_estimators': 324, 'max_features': None, 'max_features_frac': 0.8202548764326989, 'max_depth': 20}. Best is trial 12 with value: 1104183.7807345195.\n",
      "[I 2024-05-23 14:55:17,594] Trial 35 finished with value: 1269788.60751748 and parameters: {'n_estimators': 238, 'max_features': 'sqrt', 'max_depth': 15}. Best is trial 12 with value: 1104183.7807345195.\n",
      "[I 2024-05-23 14:56:36,099] Trial 36 finished with value: 1108802.0488686988 and parameters: {'n_estimators': 412, 'max_features': None, 'max_features_frac': 0.9012747237469555, 'max_depth': 26}. Best is trial 12 with value: 1104183.7807345195.\n",
      "[I 2024-05-23 14:57:59,336] Trial 37 finished with value: 1110974.881928288 and parameters: {'n_estimators': 420, 'max_features': None, 'max_features_frac': 0.9266521576047795, 'max_depth': 24}. Best is trial 12 with value: 1104183.7807345195.\n",
      "[I 2024-05-23 14:58:46,377] Trial 38 finished with value: 1123580.185626657 and parameters: {'n_estimators': 349, 'max_features': None, 'max_features_frac': 0.780192351152438, 'max_depth': 16}. Best is trial 12 with value: 1104183.7807345195.\n",
      "[I 2024-05-23 14:59:36,563] Trial 39 finished with value: 1130360.3709548193 and parameters: {'n_estimators': 338, 'max_features': None, 'max_features_frac': 0.6821005367757588, 'max_depth': 21}. Best is trial 12 with value: 1104183.7807345195.\n",
      "[I 2024-05-23 14:59:40,929] Trial 40 finished with value: 1276789.3390933261 and parameters: {'n_estimators': 142, 'max_features': 'sqrt', 'max_depth': 18}. Best is trial 12 with value: 1104183.7807345195.\n",
      "[I 2024-05-23 15:01:08,585] Trial 41 finished with value: 1111321.3425180365 and parameters: {'n_estimators': 428, 'max_features': None, 'max_features_frac': 0.9188128601583764, 'max_depth': 24}. Best is trial 12 with value: 1104183.7807345195.\n",
      "[I 2024-05-23 15:02:45,347] Trial 42 finished with value: 1110828.249422116 and parameters: {'n_estimators': 466, 'max_features': None, 'max_features_frac': 0.9311139986692857, 'max_depth': 25}. Best is trial 12 with value: 1104183.7807345195.\n",
      "[I 2024-05-23 15:04:26,221] Trial 43 finished with value: 1111607.1987752456 and parameters: {'n_estimators': 471, 'max_features': None, 'max_features_frac': 0.9379238599186649, 'max_depth': 28}. Best is trial 12 with value: 1104183.7807345195.\n",
      "[I 2024-05-23 15:05:57,276] Trial 44 finished with value: 1104644.0579805316 and parameters: {'n_estimators': 461, 'max_features': None, 'max_features_frac': 0.940822730162904, 'max_depth': 20}. Best is trial 12 with value: 1104183.7807345195.\n",
      "[I 2024-05-23 15:06:04,585] Trial 45 finished with value: 1288913.3891783769 and parameters: {'n_estimators': 281, 'max_features': 'log2', 'max_depth': 19}. Best is trial 12 with value: 1104183.7807345195.\n",
      "[I 2024-05-23 15:06:45,190] Trial 46 finished with value: 1138737.3916368203 and parameters: {'n_estimators': 401, 'max_features': None, 'max_features_frac': 0.6103797869409453, 'max_depth': 14}. Best is trial 12 with value: 1104183.7807345195.\n",
      "[I 2024-05-23 15:07:28,871] Trial 47 finished with value: 1122096.2493565243 and parameters: {'n_estimators': 228, 'max_features': None, 'max_features_frac': 0.8472813351354493, 'max_depth': 21}. Best is trial 12 with value: 1104183.7807345195.\n",
      "[I 2024-05-23 15:08:15,818] Trial 48 finished with value: 1121865.7219806132 and parameters: {'n_estimators': 312, 'max_features': None, 'max_features_frac': 0.7674801552690071, 'max_depth': 17}. Best is trial 12 with value: 1104183.7807345195.\n",
      "[I 2024-05-23 15:09:04,976] Trial 49 finished with value: 1154575.1490943087 and parameters: {'n_estimators': 447, 'max_features': None, 'max_features_frac': 0.5156049918779948, 'max_depth': 20}. Best is trial 12 with value: 1104183.7807345195.\n",
      "[I 2024-05-23 15:09:14,947] Trial 50 finished with value: 1305524.564399862 and parameters: {'n_estimators': 497, 'max_features': 'log2', 'max_depth': 15}. Best is trial 12 with value: 1104183.7807345195.\n",
      "[I 2024-05-23 15:10:57,446] Trial 51 finished with value: 1110237.5871787525 and parameters: {'n_estimators': 462, 'max_features': None, 'max_features_frac': 0.9514315470095639, 'max_depth': 29}. Best is trial 12 with value: 1104183.7807345195.\n",
      "[I 2024-05-23 15:12:36,773] Trial 52 finished with value: 1110407.2705603591 and parameters: {'n_estimators': 458, 'max_features': None, 'max_features_frac': 0.9564695999265731, 'max_depth': 29}. Best is trial 12 with value: 1104183.7807345195.\n",
      "[I 2024-05-23 15:14:22,715] Trial 53 finished with value: 1111623.0208776381 and parameters: {'n_estimators': 482, 'max_features': None, 'max_features_frac': 0.9450972452816581, 'max_depth': 35}. Best is trial 12 with value: 1104183.7807345195.\n",
      "[I 2024-05-23 15:15:42,371] Trial 54 finished with value: 1115600.1505761573 and parameters: {'n_estimators': 375, 'max_features': None, 'max_features_frac': 0.894387995491692, 'max_depth': 32}. Best is trial 12 with value: 1104183.7807345195.\n",
      "[I 2024-05-23 15:17:15,078] Trial 55 finished with value: 1111091.638113724 and parameters: {'n_estimators': 413, 'max_features': None, 'max_features_frac': 0.9622088570394518, 'max_depth': 40}. Best is trial 12 with value: 1104183.7807345195.\n",
      "[I 2024-05-23 15:17:30,927] Trial 56 finished with value: 1262580.1403199637 and parameters: {'n_estimators': 436, 'max_features': 'sqrt', 'max_depth': 23}. Best is trial 12 with value: 1104183.7807345195.\n",
      "[I 2024-05-23 15:18:55,110] Trial 57 finished with value: 1109434.1654298538 and parameters: {'n_estimators': 400, 'max_features': None, 'max_features_frac': 0.8937607086287267, 'max_depth': 26}. Best is trial 12 with value: 1104183.7807345195.\n",
      "[I 2024-05-23 15:20:11,518] Trial 58 finished with value: 1117482.2743414072 and parameters: {'n_estimators': 400, 'max_features': None, 'max_features_frac': 0.8172606028612324, 'max_depth': 26}. Best is trial 12 with value: 1104183.7807345195.\n",
      "[I 2024-05-23 15:21:13,047] Trial 59 finished with value: 1110564.9651472548 and parameters: {'n_estimators': 337, 'max_features': None, 'max_features_frac': 0.8666674720972076, 'max_depth': 19}. Best is trial 12 with value: 1104183.7807345195.\n",
      "[I 2024-05-23 15:21:15,384] Trial 60 finished with value: 1296854.4963378056 and parameters: {'n_estimators': 102, 'max_features': 'log2', 'max_depth': 17}. Best is trial 12 with value: 1104183.7807345195.\n",
      "[I 2024-05-23 15:22:49,672] Trial 61 finished with value: 1108170.6153666896 and parameters: {'n_estimators': 431, 'max_features': None, 'max_features_frac': 0.9661795185943182, 'max_depth': 23}. Best is trial 12 with value: 1104183.7807345195.\n",
      "[I 2024-05-23 15:24:18,977] Trial 62 finished with value: 1111500.2159873373 and parameters: {'n_estimators': 425, 'max_features': None, 'max_features_frac': 0.901851715378775, 'max_depth': 23}. Best is trial 12 with value: 1104183.7807345195.\n",
      "[I 2024-05-23 15:25:42,916] Trial 63 finished with value: 1113676.2372476377 and parameters: {'n_estimators': 382, 'max_features': None, 'max_features_frac': 0.996480479103933, 'max_depth': 21}. Best is trial 12 with value: 1104183.7807345195.\n",
      "[I 2024-05-23 15:27:06,163] Trial 64 finished with value: 1114024.150549861 and parameters: {'n_estimators': 360, 'max_features': None, 'max_features_frac': 0.9623103450049341, 'max_depth': 24}. Best is trial 12 with value: 1104183.7807345195.\n",
      "[I 2024-05-23 15:28:31,059] Trial 65 finished with value: 1112315.7044268735 and parameters: {'n_estimators': 441, 'max_features': None, 'max_features_frac': 0.8935995367564101, 'max_depth': 19}. Best is trial 12 with value: 1104183.7807345195.\n",
      "[I 2024-05-23 15:29:55,862] Trial 66 finished with value: 1108428.9306444474 and parameters: {'n_estimators': 410, 'max_features': None, 'max_features_frac': 0.8484456713164429, 'max_depth': 26}. Best is trial 12 with value: 1104183.7807345195.\n",
      "[I 2024-05-23 15:30:52,224] Trial 67 finished with value: 1115946.203830371 and parameters: {'n_estimators': 297, 'max_features': None, 'max_features_frac': 0.8384310679070139, 'max_depth': 22}. Best is trial 12 with value: 1104183.7807345195.\n",
      "[I 2024-05-23 15:31:49,090] Trial 68 finished with value: 1151913.0906674326 and parameters: {'n_estimators': 427, 'max_features': None, 'max_features_frac': 0.5203589994504714, 'max_depth': 50}. Best is trial 12 with value: 1104183.7807345195.\n",
      "[I 2024-05-23 15:31:57,713] Trial 69 finished with value: 1269035.7892390525 and parameters: {'n_estimators': 263, 'max_features': 'sqrt', 'max_depth': 18}. Best is trial 12 with value: 1104183.7807345195.\n",
      "[I 2024-05-23 15:33:22,670] Trial 70 finished with value: 1119330.8166096956 and parameters: {'n_estimators': 478, 'max_features': None, 'max_features_frac': 0.7938789995306961, 'max_depth': 21}. Best is trial 12 with value: 1104183.7807345195.\n",
      "[I 2024-05-23 15:34:46,374] Trial 71 finished with value: 1112238.9899781588 and parameters: {'n_estimators': 396, 'max_features': None, 'max_features_frac': 0.8669375242379163, 'max_depth': 27}. Best is trial 12 with value: 1104183.7807345195.\n",
      "[I 2024-05-23 15:36:20,353] Trial 72 finished with value: 1113728.8802213934 and parameters: {'n_estimators': 412, 'max_features': None, 'max_features_frac': 0.9687936973000121, 'max_depth': 25}. Best is trial 12 with value: 1104183.7807345195.\n",
      "[I 2024-05-23 15:37:40,035] Trial 73 finished with value: 1116961.177783398 and parameters: {'n_estimators': 351, 'max_features': None, 'max_features_frac': 0.9083104189465396, 'max_depth': 31}. Best is trial 12 with value: 1104183.7807345195.\n",
      "[I 2024-05-23 15:39:22,694] Trial 74 finished with value: 1111071.2760872138 and parameters: {'n_estimators': 451, 'max_features': None, 'max_features_frac': 0.9999294833377673, 'max_depth': 23}. Best is trial 12 with value: 1104183.7807345195.\n",
      "[I 2024-05-23 15:40:44,946] Trial 75 finished with value: 1111181.3253552539 and parameters: {'n_estimators': 377, 'max_features': None, 'max_features_frac': 0.9257589372002698, 'max_depth': 25}. Best is trial 12 with value: 1104183.7807345195.\n",
      "[I 2024-05-23 15:41:28,502] Trial 76 finished with value: 1168949.3796645943 and parameters: {'n_estimators': 407, 'max_features': None, 'max_features_frac': 0.4291887147129537, 'max_depth': 26}. Best is trial 12 with value: 1104183.7807345195.\n",
      "[I 2024-05-23 15:42:29,280] Trial 77 finished with value: 1114911.5842459095 and parameters: {'n_estimators': 321, 'max_features': None, 'max_features_frac': 0.846608749128965, 'max_depth': 20}. Best is trial 12 with value: 1104183.7807345195.\n",
      "[I 2024-05-23 15:42:44,482] Trial 78 finished with value: 1288376.847669206 and parameters: {'n_estimators': 434, 'max_features': 'log2', 'max_depth': 28}. Best is trial 12 with value: 1104183.7807345195.\n",
      "[I 2024-05-23 15:43:15,050] Trial 79 finished with value: 1196186.6065664177 and parameters: {'n_estimators': 391, 'max_features': None, 'max_features_frac': 0.294845640882131, 'max_depth': 24}. Best is trial 12 with value: 1104183.7807345195.\n",
      "[I 2024-05-23 15:44:09,622] Trial 80 finished with value: 1117149.6879689351 and parameters: {'n_estimators': 333, 'max_features': None, 'max_features_frac': 0.8807986077836898, 'max_depth': 16}. Best is trial 12 with value: 1104183.7807345195.\n",
      "[I 2024-05-23 15:45:56,801] Trial 81 finished with value: 1110284.5832317788 and parameters: {'n_estimators': 464, 'max_features': None, 'max_features_frac': 0.9640598689038767, 'max_depth': 28}. Best is trial 12 with value: 1104183.7807345195.\n",
      "[I 2024-05-23 15:47:41,141] Trial 82 finished with value: 1113049.4779693938 and parameters: {'n_estimators': 454, 'max_features': None, 'max_features_frac': 0.9431266363983882, 'max_depth': 30}. Best is trial 12 with value: 1104183.7807345195.\n",
      "[I 2024-05-23 15:49:19,092] Trial 83 finished with value: 1105712.7339404165 and parameters: {'n_estimators': 419, 'max_features': None, 'max_features_frac': 0.923204117331676, 'max_depth': 33}. Best is trial 12 with value: 1104183.7807345195.\n",
      "[I 2024-05-23 15:50:50,890] Trial 84 finished with value: 1113864.6334184685 and parameters: {'n_estimators': 409, 'max_features': None, 'max_features_frac': 0.9147248262788092, 'max_depth': 46}. Best is trial 12 with value: 1104183.7807345195.\n",
      "[I 2024-05-23 15:52:21,917] Trial 85 finished with value: 1111251.1236962276 and parameters: {'n_estimators': 417, 'max_features': None, 'max_features_frac': 0.8922349493580555, 'max_depth': 34}. Best is trial 12 with value: 1104183.7807345195.\n",
      "[I 2024-05-23 15:52:39,878] Trial 86 finished with value: 1259474.3624445538 and parameters: {'n_estimators': 432, 'max_features': 'sqrt', 'max_depth': 37}. Best is trial 12 with value: 1104183.7807345195.\n",
      "[I 2024-05-23 15:54:22,247] Trial 87 finished with value: 1109180.4615776371 and parameters: {'n_estimators': 423, 'max_features': None, 'max_features_frac': 0.9713017022997323, 'max_depth': 22}. Best is trial 12 with value: 1104183.7807345195.\n",
      "[I 2024-05-23 15:55:38,234] Trial 88 finished with value: 1115205.887692299 and parameters: {'n_estimators': 367, 'max_features': None, 'max_features_frac': 0.9786761414904426, 'max_depth': 19}. Best is trial 12 with value: 1104183.7807345195.\n",
      "[I 2024-05-23 15:57:04,311] Trial 89 finished with value: 1108239.7336342086 and parameters: {'n_estimators': 443, 'max_features': None, 'max_features_frac': 0.9342103888394137, 'max_depth': 18}. Best is trial 12 with value: 1104183.7807345195.\n",
      "[I 2024-05-23 15:58:25,491] Trial 90 finished with value: 1111879.9257667381 and parameters: {'n_estimators': 441, 'max_features': None, 'max_features_frac': 0.9296985572577151, 'max_depth': 17}. Best is trial 12 with value: 1104183.7807345195.\n",
      "[I 2024-05-23 15:59:48,215] Trial 91 finished with value: 1106221.5620879165 and parameters: {'n_estimators': 420, 'max_features': None, 'max_features_frac': 0.9793680896167614, 'max_depth': 18}. Best is trial 12 with value: 1104183.7807345195.\n",
      "[I 2024-05-23 16:00:22,697] Trial 92 finished with value: 1130162.097836286 and parameters: {'n_estimators': 308, 'max_features': None, 'max_features_frac': 0.9366582355966044, 'max_depth': 10}. Best is trial 12 with value: 1104183.7807345195.\n",
      "[I 2024-05-23 16:02:04,889] Trial 93 finished with value: 1112395.4074330202 and parameters: {'n_estimators': 473, 'max_features': None, 'max_features_frac': 0.9962987751002322, 'max_depth': 20}. Best is trial 12 with value: 1104183.7807345195.\n",
      "[I 2024-05-23 16:03:25,860] Trial 94 finished with value: 1115015.0831121765 and parameters: {'n_estimators': 446, 'max_features': None, 'max_features_frac': 0.8590269855387389, 'max_depth': 18}. Best is trial 12 with value: 1104183.7807345195.\n",
      "[I 2024-05-23 16:04:29,984] Trial 95 finished with value: 1108493.5639932544 and parameters: {'n_estimators': 282, 'max_features': None, 'max_features_frac': 0.9730831763535286, 'max_depth': 21}. Best is trial 12 with value: 1104183.7807345195.\n",
      "[I 2024-05-23 16:05:14,737] Trial 96 finished with value: 1119602.009692136 and parameters: {'n_estimators': 221, 'max_features': None, 'max_features_frac': 0.9466888311992927, 'max_depth': 19}. Best is trial 12 with value: 1104183.7807345195.\n",
      "[I 2024-05-23 16:05:54,803] Trial 97 finished with value: 1116237.700352124 and parameters: {'n_estimators': 185, 'max_features': None, 'max_features_frac': 0.9751093922293947, 'max_depth': 21}. Best is trial 12 with value: 1104183.7807345195.\n",
      "[I 2024-05-23 16:06:01,547] Trial 98 finished with value: 1297141.2852948296 and parameters: {'n_estimators': 260, 'max_features': 'log2', 'max_depth': 18}. Best is trial 12 with value: 1104183.7807345195.\n",
      "[I 2024-05-23 16:06:59,120] Trial 99 finished with value: 1119730.8010116327 and parameters: {'n_estimators': 284, 'max_features': None, 'max_features_frac': 0.9179728247552362, 'max_depth': 21}. Best is trial 12 with value: 1104183.7807345195.\n"
     ]
    }
   ],
   "source": [
    "# Optuna hyperparameter tuning\n",
    "study2 = optuna.create_study(direction='minimize')\n",
    "study2.optimize(objective, n_trials=100)"
   ]
  },
  {
   "cell_type": "code",
   "execution_count": 61,
   "id": "00746055-b7ed-4c7a-91a3-3f74483f24c0",
   "metadata": {},
   "outputs": [
    {
     "data": {
      "text/plain": [
       "{'n_estimators': 418,\n",
       " 'max_features': None,\n",
       " 'max_features_frac': 0.9406014627190983,\n",
       " 'max_depth': 20}"
      ]
     },
     "execution_count": 61,
     "metadata": {},
     "output_type": "execute_result"
    }
   ],
   "source": [
    "best_params2 = study2.best_trial.params\n",
    "best_params2"
   ]
  },
  {
   "cell_type": "code",
   "execution_count": 62,
   "id": "35f2f5c5-37a6-4c0e-b105-b6fc4958cb15",
   "metadata": {},
   "outputs": [],
   "source": [
    "if 'max_features_frac' in best_params2:\n",
    "    best_params2['max_features'] = best_params2.pop('max_features_frac')"
   ]
  },
  {
   "cell_type": "code",
   "execution_count": 63,
   "id": "e406991a-8d96-4158-a909-d4c872a6f847",
   "metadata": {},
   "outputs": [
    {
     "data": {
      "text/html": [
       "<style>#sk-container-id-8 {color: black;background-color: white;}#sk-container-id-8 pre{padding: 0;}#sk-container-id-8 div.sk-toggleable {background-color: white;}#sk-container-id-8 label.sk-toggleable__label {cursor: pointer;display: block;width: 100%;margin-bottom: 0;padding: 0.3em;box-sizing: border-box;text-align: center;}#sk-container-id-8 label.sk-toggleable__label-arrow:before {content: \"▸\";float: left;margin-right: 0.25em;color: #696969;}#sk-container-id-8 label.sk-toggleable__label-arrow:hover:before {color: black;}#sk-container-id-8 div.sk-estimator:hover label.sk-toggleable__label-arrow:before {color: black;}#sk-container-id-8 div.sk-toggleable__content {max-height: 0;max-width: 0;overflow: hidden;text-align: left;background-color: #f0f8ff;}#sk-container-id-8 div.sk-toggleable__content pre {margin: 0.2em;color: black;border-radius: 0.25em;background-color: #f0f8ff;}#sk-container-id-8 input.sk-toggleable__control:checked~div.sk-toggleable__content {max-height: 200px;max-width: 100%;overflow: auto;}#sk-container-id-8 input.sk-toggleable__control:checked~label.sk-toggleable__label-arrow:before {content: \"▾\";}#sk-container-id-8 div.sk-estimator input.sk-toggleable__control:checked~label.sk-toggleable__label {background-color: #d4ebff;}#sk-container-id-8 div.sk-label input.sk-toggleable__control:checked~label.sk-toggleable__label {background-color: #d4ebff;}#sk-container-id-8 input.sk-hidden--visually {border: 0;clip: rect(1px 1px 1px 1px);clip: rect(1px, 1px, 1px, 1px);height: 1px;margin: -1px;overflow: hidden;padding: 0;position: absolute;width: 1px;}#sk-container-id-8 div.sk-estimator {font-family: monospace;background-color: #f0f8ff;border: 1px dotted black;border-radius: 0.25em;box-sizing: border-box;margin-bottom: 0.5em;}#sk-container-id-8 div.sk-estimator:hover {background-color: #d4ebff;}#sk-container-id-8 div.sk-parallel-item::after {content: \"\";width: 100%;border-bottom: 1px solid gray;flex-grow: 1;}#sk-container-id-8 div.sk-label:hover label.sk-toggleable__label {background-color: #d4ebff;}#sk-container-id-8 div.sk-serial::before {content: \"\";position: absolute;border-left: 1px solid gray;box-sizing: border-box;top: 0;bottom: 0;left: 50%;z-index: 0;}#sk-container-id-8 div.sk-serial {display: flex;flex-direction: column;align-items: center;background-color: white;padding-right: 0.2em;padding-left: 0.2em;position: relative;}#sk-container-id-8 div.sk-item {position: relative;z-index: 1;}#sk-container-id-8 div.sk-parallel {display: flex;align-items: stretch;justify-content: center;background-color: white;position: relative;}#sk-container-id-8 div.sk-item::before, #sk-container-id-8 div.sk-parallel-item::before {content: \"\";position: absolute;border-left: 1px solid gray;box-sizing: border-box;top: 0;bottom: 0;left: 50%;z-index: -1;}#sk-container-id-8 div.sk-parallel-item {display: flex;flex-direction: column;z-index: 1;position: relative;background-color: white;}#sk-container-id-8 div.sk-parallel-item:first-child::after {align-self: flex-end;width: 50%;}#sk-container-id-8 div.sk-parallel-item:last-child::after {align-self: flex-start;width: 50%;}#sk-container-id-8 div.sk-parallel-item:only-child::after {width: 0;}#sk-container-id-8 div.sk-dashed-wrapped {border: 1px dashed gray;margin: 0 0.4em 0.5em 0.4em;box-sizing: border-box;padding-bottom: 0.4em;background-color: white;}#sk-container-id-8 div.sk-label label {font-family: monospace;font-weight: bold;display: inline-block;line-height: 1.2em;}#sk-container-id-8 div.sk-label-container {text-align: center;}#sk-container-id-8 div.sk-container {/* jupyter's `normalize.less` sets `[hidden] { display: none; }` but bootstrap.min.css set `[hidden] { display: none !important; }` so we also need the `!important` here to be able to override the default hidden behavior on the sphinx rendered scikit-learn.org. See: https://github.com/scikit-learn/scikit-learn/issues/21755 */display: inline-block !important;position: relative;}#sk-container-id-8 div.sk-text-repr-fallback {display: none;}</style><div id=\"sk-container-id-8\" class=\"sk-top-container\"><div class=\"sk-text-repr-fallback\"><pre>RandomForestRegressor(max_depth=20, max_features=0.9406014627190983,\n",
       "                      n_estimators=418, random_state=42)</pre><b>In a Jupyter environment, please rerun this cell to show the HTML representation or trust the notebook. <br />On GitHub, the HTML representation is unable to render, please try loading this page with nbviewer.org.</b></div><div class=\"sk-container\" hidden><div class=\"sk-item\"><div class=\"sk-estimator sk-toggleable\"><input class=\"sk-toggleable__control sk-hidden--visually\" id=\"sk-estimator-id-8\" type=\"checkbox\" checked><label for=\"sk-estimator-id-8\" class=\"sk-toggleable__label sk-toggleable__label-arrow\">RandomForestRegressor</label><div class=\"sk-toggleable__content\"><pre>RandomForestRegressor(max_depth=20, max_features=0.9406014627190983,\n",
       "                      n_estimators=418, random_state=42)</pre></div></div></div></div></div>"
      ],
      "text/plain": [
       "RandomForestRegressor(max_depth=20, max_features=0.9406014627190983,\n",
       "                      n_estimators=418, random_state=42)"
      ]
     },
     "execution_count": 63,
     "metadata": {},
     "output_type": "execute_result"
    }
   ],
   "source": [
    "best_rf = RandomForestRegressor(**best_params2, random_state=42)\n",
    "best_rf.fit(X_train, y_train)"
   ]
  },
  {
   "cell_type": "code",
   "execution_count": 76,
   "id": "5a90225b-3480-4f75-994a-827d3032602d",
   "metadata": {},
   "outputs": [],
   "source": [
    "best_predictions = best_rf.predict(X_test)"
   ]
  },
  {
   "cell_type": "code",
   "execution_count": 77,
   "id": "76b146ee-22be-44ed-82e9-5f010d11c6fe",
   "metadata": {},
   "outputs": [
    {
     "name": "stdout",
     "output_type": "stream",
     "text": [
      "Best MAE: 1104183.7807345195\n"
     ]
    }
   ],
   "source": [
    "best_mae = mean_absolute_error(y_test, best_predictions)\n",
    "print(f'Best MAE: {best_mae}')"
   ]
  },
  {
   "cell_type": "code",
   "execution_count": 80,
   "id": "1b761ae3-2950-43e0-a0b9-d15165907744",
   "metadata": {},
   "outputs": [
    {
     "name": "stdout",
     "output_type": "stream",
     "text": [
      "R^2: 0.7890663325651335\n"
     ]
    }
   ],
   "source": [
    "r2 = r2_score(y_test, best_predictions)\n",
    "print(f'R^2: {r2}')"
   ]
  },
  {
   "cell_type": "markdown",
   "id": "35d42d73-80d0-4b77-94db-c1a00198b6c8",
   "metadata": {},
   "source": [
    "### main body"
   ]
  },
  {
   "cell_type": "code",
   "execution_count": 67,
   "id": "e4763390",
   "metadata": {},
   "outputs": [
    {
     "name": "stdout",
     "output_type": "stream",
     "text": [
      "MAE: 1104183.7807345195\n"
     ]
    }
   ],
   "source": [
    "X = data[relevant_features]\n",
    "y = data['current_price']\n",
    "\n",
    "X_train, X_test, y_train, y_test = train_test_split(X, y, test_size=0.2, random_state=42)\n",
    "\n",
    "rf_model = RandomForestRegressor(max_depth=20,\n",
    "                                 max_features=0.9406014627190983, \n",
    "                                 n_estimators=418, \n",
    "                                 random_state=42)\n",
    "rf_model.fit(X_train, y_train)\n",
    "\n",
    "predictions = rf_model.predict(X_test)\n",
    "\n",
    "mae = mean_absolute_error(y_test, predictions)\n",
    "print(f'MAE: {mae}')"
   ]
  },
  {
   "cell_type": "code",
   "execution_count": 68,
   "id": "855f9b50-fa40-4afe-9072-84243e609e3d",
   "metadata": {},
   "outputs": [
    {
     "data": {
      "text/plain": [
       "array([4.99354067e+07, 4.61387560e+07, 1.11806220e+07, ...,\n",
       "       1.61203257e+04, 4.67894758e+04, 1.26377883e+05])"
      ]
     },
     "execution_count": 68,
     "metadata": {},
     "output_type": "execute_result"
    }
   ],
   "source": [
    "# для всего датасета\n",
    "predicted_prices = rf_model.predict(X)\n",
    "predicted_prices"
   ]
  },
  {
   "cell_type": "code",
   "execution_count": 69,
   "id": "24e3ab87-5158-4e47-87c1-d4ff116becfa",
   "metadata": {},
   "outputs": [
    {
     "data": {
      "text/html": [
       "<style>#sk-container-id-9 {color: black;background-color: white;}#sk-container-id-9 pre{padding: 0;}#sk-container-id-9 div.sk-toggleable {background-color: white;}#sk-container-id-9 label.sk-toggleable__label {cursor: pointer;display: block;width: 100%;margin-bottom: 0;padding: 0.3em;box-sizing: border-box;text-align: center;}#sk-container-id-9 label.sk-toggleable__label-arrow:before {content: \"▸\";float: left;margin-right: 0.25em;color: #696969;}#sk-container-id-9 label.sk-toggleable__label-arrow:hover:before {color: black;}#sk-container-id-9 div.sk-estimator:hover label.sk-toggleable__label-arrow:before {color: black;}#sk-container-id-9 div.sk-toggleable__content {max-height: 0;max-width: 0;overflow: hidden;text-align: left;background-color: #f0f8ff;}#sk-container-id-9 div.sk-toggleable__content pre {margin: 0.2em;color: black;border-radius: 0.25em;background-color: #f0f8ff;}#sk-container-id-9 input.sk-toggleable__control:checked~div.sk-toggleable__content {max-height: 200px;max-width: 100%;overflow: auto;}#sk-container-id-9 input.sk-toggleable__control:checked~label.sk-toggleable__label-arrow:before {content: \"▾\";}#sk-container-id-9 div.sk-estimator input.sk-toggleable__control:checked~label.sk-toggleable__label {background-color: #d4ebff;}#sk-container-id-9 div.sk-label input.sk-toggleable__control:checked~label.sk-toggleable__label {background-color: #d4ebff;}#sk-container-id-9 input.sk-hidden--visually {border: 0;clip: rect(1px 1px 1px 1px);clip: rect(1px, 1px, 1px, 1px);height: 1px;margin: -1px;overflow: hidden;padding: 0;position: absolute;width: 1px;}#sk-container-id-9 div.sk-estimator {font-family: monospace;background-color: #f0f8ff;border: 1px dotted black;border-radius: 0.25em;box-sizing: border-box;margin-bottom: 0.5em;}#sk-container-id-9 div.sk-estimator:hover {background-color: #d4ebff;}#sk-container-id-9 div.sk-parallel-item::after {content: \"\";width: 100%;border-bottom: 1px solid gray;flex-grow: 1;}#sk-container-id-9 div.sk-label:hover label.sk-toggleable__label {background-color: #d4ebff;}#sk-container-id-9 div.sk-serial::before {content: \"\";position: absolute;border-left: 1px solid gray;box-sizing: border-box;top: 0;bottom: 0;left: 50%;z-index: 0;}#sk-container-id-9 div.sk-serial {display: flex;flex-direction: column;align-items: center;background-color: white;padding-right: 0.2em;padding-left: 0.2em;position: relative;}#sk-container-id-9 div.sk-item {position: relative;z-index: 1;}#sk-container-id-9 div.sk-parallel {display: flex;align-items: stretch;justify-content: center;background-color: white;position: relative;}#sk-container-id-9 div.sk-item::before, #sk-container-id-9 div.sk-parallel-item::before {content: \"\";position: absolute;border-left: 1px solid gray;box-sizing: border-box;top: 0;bottom: 0;left: 50%;z-index: -1;}#sk-container-id-9 div.sk-parallel-item {display: flex;flex-direction: column;z-index: 1;position: relative;background-color: white;}#sk-container-id-9 div.sk-parallel-item:first-child::after {align-self: flex-end;width: 50%;}#sk-container-id-9 div.sk-parallel-item:last-child::after {align-self: flex-start;width: 50%;}#sk-container-id-9 div.sk-parallel-item:only-child::after {width: 0;}#sk-container-id-9 div.sk-dashed-wrapped {border: 1px dashed gray;margin: 0 0.4em 0.5em 0.4em;box-sizing: border-box;padding-bottom: 0.4em;background-color: white;}#sk-container-id-9 div.sk-label label {font-family: monospace;font-weight: bold;display: inline-block;line-height: 1.2em;}#sk-container-id-9 div.sk-label-container {text-align: center;}#sk-container-id-9 div.sk-container {/* jupyter's `normalize.less` sets `[hidden] { display: none; }` but bootstrap.min.css set `[hidden] { display: none !important; }` so we also need the `!important` here to be able to override the default hidden behavior on the sphinx rendered scikit-learn.org. See: https://github.com/scikit-learn/scikit-learn/issues/21755 */display: inline-block !important;position: relative;}#sk-container-id-9 div.sk-text-repr-fallback {display: none;}</style><div id=\"sk-container-id-9\" class=\"sk-top-container\"><div class=\"sk-text-repr-fallback\"><pre>RandomForestRegressor(max_depth=20, max_features=0.9406014627190983,\n",
       "                      n_estimators=418, random_state=42)</pre><b>In a Jupyter environment, please rerun this cell to show the HTML representation or trust the notebook. <br />On GitHub, the HTML representation is unable to render, please try loading this page with nbviewer.org.</b></div><div class=\"sk-container\" hidden><div class=\"sk-item\"><div class=\"sk-estimator sk-toggleable\"><input class=\"sk-toggleable__control sk-hidden--visually\" id=\"sk-estimator-id-9\" type=\"checkbox\" checked><label for=\"sk-estimator-id-9\" class=\"sk-toggleable__label sk-toggleable__label-arrow\">RandomForestRegressor</label><div class=\"sk-toggleable__content\"><pre>RandomForestRegressor(max_depth=20, max_features=0.9406014627190983,\n",
       "                      n_estimators=418, random_state=42)</pre></div></div></div></div></div>"
      ],
      "text/plain": [
       "RandomForestRegressor(max_depth=20, max_features=0.9406014627190983,\n",
       "                      n_estimators=418, random_state=42)"
      ]
     },
     "execution_count": 69,
     "metadata": {},
     "output_type": "execute_result"
    }
   ],
   "source": [
    "rf_model.fit(X, y)"
   ]
  },
  {
   "cell_type": "markdown",
   "id": "4eb6fb3b-a3eb-4272-9012-5f64c04ff91d",
   "metadata": {},
   "source": [
    "### save the model"
   ]
  },
  {
   "cell_type": "code",
   "execution_count": 70,
   "id": "c6dfc3b3-a49e-4ae1-bd5b-45b90723ea00",
   "metadata": {},
   "outputs": [
    {
     "data": {
      "text/plain": [
       "['rf_model.joblib']"
      ]
     },
     "execution_count": 70,
     "metadata": {},
     "output_type": "execute_result"
    }
   ],
   "source": [
    "import joblib\n",
    "joblib.dump(rf_model, \"rf_model.joblib\")"
   ]
  },
  {
   "cell_type": "markdown",
   "id": "7e6c98d1-40dd-461f-918c-fcf0d7f8d7a9",
   "metadata": {},
   "source": [
    "------"
   ]
  },
  {
   "cell_type": "code",
   "execution_count": null,
   "id": "1478abae-f42d-4b00-a73b-1ae945c58120",
   "metadata": {},
   "outputs": [],
   "source": []
  }
 ],
 "metadata": {
  "kernelspec": {
   "display_name": "Python 3 (ipykernel)",
   "language": "python",
   "name": "python3"
  },
  "language_info": {
   "codemirror_mode": {
    "name": "ipython",
    "version": 3
   },
   "file_extension": ".py",
   "mimetype": "text/x-python",
   "name": "python",
   "nbconvert_exporter": "python",
   "pygments_lexer": "ipython3",
   "version": "3.11.7"
  }
 },
 "nbformat": 4,
 "nbformat_minor": 5
}
